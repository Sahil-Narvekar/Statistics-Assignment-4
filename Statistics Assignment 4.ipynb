{
 "cells": [
  {
   "cell_type": "code",
   "execution_count": null,
   "metadata": {},
   "outputs": [],
   "source": [
    "1. Is it possible that an event is independent of itself? If so, when?"
   ]
  },
  {
   "cell_type": "code",
   "execution_count": null,
   "metadata": {},
   "outputs": [],
   "source": [
    "In extreme cases where probability of event occuring is 0 or 1.\n",
    "Let x be the event ,let's consider it to be independent of itself then P(x)=P(xnx)\n",
    "Hence P(x) should be equal to P(x)^2.Hence only for above specified conditions event maybe independent \n",
    "of itself."
   ]
  },
  {
   "cell_type": "code",
   "execution_count": null,
   "metadata": {},
   "outputs": [],
   "source": [
    "2. Is it always true that if A and B are independent events, then Ac and Bc are independent\n",
    "events? Show that it is, or give a counterexample."
   ]
  },
  {
   "cell_type": "markdown",
   "metadata": {},
   "source": [
    "Yes it is always true\n",
    "P(A^c n B^c)=1-P(A u B)\n",
    "P(A^c n B^c)=1-(P(A))+P(B)-P(A n B))\n",
    "Now since A and B are independent events P(A n B)=P(A).P(B)\n",
    "P(A^c n B^c)=1-(P(A))+P(B)-P(A).P(B))\n",
    "=1-P(A)-P(B)+P(A).P(B)\n",
    "=(1-P(A))(1-P(B))\n",
    "P(A^c n B^c)=P(A^c).P(B^c)"
   ]
  }
 ],
 "metadata": {
  "kernelspec": {
   "display_name": "Python 3",
   "language": "python",
   "name": "python3"
  },
  "language_info": {
   "codemirror_mode": {
    "name": "ipython",
    "version": 3
   },
   "file_extension": ".py",
   "mimetype": "text/x-python",
   "name": "python",
   "nbconvert_exporter": "python",
   "pygments_lexer": "ipython3",
   "version": "3.8.3"
  }
 },
 "nbformat": 4,
 "nbformat_minor": 4
}
